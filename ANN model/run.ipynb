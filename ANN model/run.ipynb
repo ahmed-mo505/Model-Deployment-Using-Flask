{
 "cells": [
  {
   "cell_type": "code",
   "execution_count": 1,
   "metadata": {},
   "outputs": [],
   "source": [
    "\n",
    "from pandas import read_csv\n",
    "from keras.models import Sequential\n",
    "from keras.layers import Dense\n",
    "from keras.wrappers.scikit_learn import KerasRegressor\n",
    "from sklearn.model_selection import cross_val_score\n",
    "from sklearn.model_selection import KFold\n",
    "from sklearn.pipeline import Pipeline\n",
    "from sklearn.model_selection import train_test_split"
   ]
  },
  {
   "cell_type": "code",
   "execution_count": 2,
   "metadata": {},
   "outputs": [
    {
     "name": "stdout",
     "output_type": "stream",
     "text": [
      "      CRIM    ZN  INDUS  CHAS    NOX     RM   AGE     DIS  RAD    TAX  \\\n",
      "0  0.00632  18.0   2.31     0  0.538  6.575  65.2  4.0900    1  296.0   \n",
      "1  0.02731   0.0   7.07     0  0.469  6.421  78.9  4.9671    2  242.0   \n",
      "2  0.02729   0.0   7.07     0  0.469  7.185  61.1  4.9671    2  242.0   \n",
      "3  0.03237   0.0   2.18     0  0.458  6.998  45.8  6.0622    3  222.0   \n",
      "4  0.06905   0.0   2.18     0  0.458  7.147  54.2  6.0622    3  222.0   \n",
      "\n",
      "   PTRATIO       B  LSTAT  MEDV  \n",
      "0     15.3  396.90   4.98  24.0  \n",
      "1     17.8  396.90   9.14  21.6  \n",
      "2     17.8  392.83   4.03  34.7  \n",
      "3     18.7  394.63   2.94  33.4  \n",
      "4     18.7  396.90   5.33  36.2  \n"
     ]
    }
   ],
   "source": [
    "# load data and arrange into Pandas dataframe\n",
    "df = read_csv(\"housing.csv\", delim_whitespace=True, header=None)\n",
    "\n",
    "feature_names = ['CRIM', 'ZN', 'INDUS', 'CHAS', 'NOX', 'RM', 'AGE', \n",
    "                 'DIS', 'RAD', 'TAX', 'PTRATIO', 'B', 'LSTAT', 'MEDV']\n",
    "\n",
    "\n",
    "df.columns = feature_names\n",
    "print(df.head())"
   ]
  },
  {
   "cell_type": "code",
   "execution_count": 3,
   "metadata": {},
   "outputs": [
    {
     "name": "stdout",
     "output_type": "stream",
     "text": [
      "             CRIM          ZN       INDUS        CHAS         NOX          RM  \\\n",
      "count  506.000000  506.000000  506.000000  506.000000  506.000000  506.000000   \n",
      "mean     3.613524   11.363636   11.136779    0.069170    0.554695    6.284634   \n",
      "std      8.601545   23.322453    6.860353    0.253994    0.115878    0.702617   \n",
      "min      0.006320    0.000000    0.460000    0.000000    0.385000    3.561000   \n",
      "25%      0.082045    0.000000    5.190000    0.000000    0.449000    5.885500   \n",
      "50%      0.256510    0.000000    9.690000    0.000000    0.538000    6.208500   \n",
      "75%      3.677083   12.500000   18.100000    0.000000    0.624000    6.623500   \n",
      "max     88.976200  100.000000   27.740000    1.000000    0.871000    8.780000   \n",
      "\n",
      "              AGE         DIS         RAD         TAX     PTRATIO           B  \\\n",
      "count  506.000000  506.000000  506.000000  506.000000  506.000000  506.000000   \n",
      "mean    68.574901    3.795043    9.549407  408.237154   18.455534  356.674032   \n",
      "std     28.148861    2.105710    8.707259  168.537116    2.164946   91.294864   \n",
      "min      2.900000    1.129600    1.000000  187.000000   12.600000    0.320000   \n",
      "25%     45.025000    2.100175    4.000000  279.000000   17.400000  375.377500   \n",
      "50%     77.500000    3.207450    5.000000  330.000000   19.050000  391.440000   \n",
      "75%     94.075000    5.188425   24.000000  666.000000   20.200000  396.225000   \n",
      "max    100.000000   12.126500   24.000000  711.000000   22.000000  396.900000   \n",
      "\n",
      "            LSTAT       PRICE  \n",
      "count  506.000000  506.000000  \n",
      "mean    12.653063   22.532806  \n",
      "std      7.141062    9.197104  \n",
      "min      1.730000    5.000000  \n",
      "25%      6.950000   17.025000  \n",
      "50%     11.360000   21.200000  \n",
      "75%     16.955000   25.000000  \n",
      "max     37.970000   50.000000  \n"
     ]
    }
   ],
   "source": [
    "df = df.rename(columns={'MEDV': 'PRICE'})\n",
    "print(df.describe())"
   ]
  },
  {
   "cell_type": "code",
   "execution_count": 4,
   "metadata": {},
   "outputs": [],
   "source": [
    "\n",
    "#Split into features and target (Price)\n",
    "X = df.drop('PRICE', axis = 1)\n",
    "y = df['PRICE']"
   ]
  },
  {
   "cell_type": "code",
   "execution_count": 5,
   "metadata": {},
   "outputs": [],
   "source": [
    "X_train, X_test, y_train, y_test = train_test_split(X, y, test_size = 0.2, random_state = 20)\n"
   ]
  },
  {
   "cell_type": "code",
   "execution_count": 6,
   "metadata": {},
   "outputs": [
    {
     "data": {
      "text/html": [
       "<style>#sk-container-id-1 {color: black;background-color: white;}#sk-container-id-1 pre{padding: 0;}#sk-container-id-1 div.sk-toggleable {background-color: white;}#sk-container-id-1 label.sk-toggleable__label {cursor: pointer;display: block;width: 100%;margin-bottom: 0;padding: 0.3em;box-sizing: border-box;text-align: center;}#sk-container-id-1 label.sk-toggleable__label-arrow:before {content: \"▸\";float: left;margin-right: 0.25em;color: #696969;}#sk-container-id-1 label.sk-toggleable__label-arrow:hover:before {color: black;}#sk-container-id-1 div.sk-estimator:hover label.sk-toggleable__label-arrow:before {color: black;}#sk-container-id-1 div.sk-toggleable__content {max-height: 0;max-width: 0;overflow: hidden;text-align: left;background-color: #f0f8ff;}#sk-container-id-1 div.sk-toggleable__content pre {margin: 0.2em;color: black;border-radius: 0.25em;background-color: #f0f8ff;}#sk-container-id-1 input.sk-toggleable__control:checked~div.sk-toggleable__content {max-height: 200px;max-width: 100%;overflow: auto;}#sk-container-id-1 input.sk-toggleable__control:checked~label.sk-toggleable__label-arrow:before {content: \"▾\";}#sk-container-id-1 div.sk-estimator input.sk-toggleable__control:checked~label.sk-toggleable__label {background-color: #d4ebff;}#sk-container-id-1 div.sk-label input.sk-toggleable__control:checked~label.sk-toggleable__label {background-color: #d4ebff;}#sk-container-id-1 input.sk-hidden--visually {border: 0;clip: rect(1px 1px 1px 1px);clip: rect(1px, 1px, 1px, 1px);height: 1px;margin: -1px;overflow: hidden;padding: 0;position: absolute;width: 1px;}#sk-container-id-1 div.sk-estimator {font-family: monospace;background-color: #f0f8ff;border: 1px dotted black;border-radius: 0.25em;box-sizing: border-box;margin-bottom: 0.5em;}#sk-container-id-1 div.sk-estimator:hover {background-color: #d4ebff;}#sk-container-id-1 div.sk-parallel-item::after {content: \"\";width: 100%;border-bottom: 1px solid gray;flex-grow: 1;}#sk-container-id-1 div.sk-label:hover label.sk-toggleable__label {background-color: #d4ebff;}#sk-container-id-1 div.sk-serial::before {content: \"\";position: absolute;border-left: 1px solid gray;box-sizing: border-box;top: 0;bottom: 0;left: 50%;z-index: 0;}#sk-container-id-1 div.sk-serial {display: flex;flex-direction: column;align-items: center;background-color: white;padding-right: 0.2em;padding-left: 0.2em;position: relative;}#sk-container-id-1 div.sk-item {position: relative;z-index: 1;}#sk-container-id-1 div.sk-parallel {display: flex;align-items: stretch;justify-content: center;background-color: white;position: relative;}#sk-container-id-1 div.sk-item::before, #sk-container-id-1 div.sk-parallel-item::before {content: \"\";position: absolute;border-left: 1px solid gray;box-sizing: border-box;top: 0;bottom: 0;left: 50%;z-index: -1;}#sk-container-id-1 div.sk-parallel-item {display: flex;flex-direction: column;z-index: 1;position: relative;background-color: white;}#sk-container-id-1 div.sk-parallel-item:first-child::after {align-self: flex-end;width: 50%;}#sk-container-id-1 div.sk-parallel-item:last-child::after {align-self: flex-start;width: 50%;}#sk-container-id-1 div.sk-parallel-item:only-child::after {width: 0;}#sk-container-id-1 div.sk-dashed-wrapped {border: 1px dashed gray;margin: 0 0.4em 0.5em 0.4em;box-sizing: border-box;padding-bottom: 0.4em;background-color: white;}#sk-container-id-1 div.sk-label label {font-family: monospace;font-weight: bold;display: inline-block;line-height: 1.2em;}#sk-container-id-1 div.sk-label-container {text-align: center;}#sk-container-id-1 div.sk-container {/* jupyter's `normalize.less` sets `[hidden] { display: none; }` but bootstrap.min.css set `[hidden] { display: none !important; }` so we also need the `!important` here to be able to override the default hidden behavior on the sphinx rendered scikit-learn.org. See: https://github.com/scikit-learn/scikit-learn/issues/21755 */display: inline-block !important;position: relative;}#sk-container-id-1 div.sk-text-repr-fallback {display: none;}</style><div id=\"sk-container-id-1\" class=\"sk-top-container\"><div class=\"sk-text-repr-fallback\"><pre>StandardScaler()</pre><b>In a Jupyter environment, please rerun this cell to show the HTML representation or trust the notebook. <br />On GitHub, the HTML representation is unable to render, please try loading this page with nbviewer.org.</b></div><div class=\"sk-container\" hidden><div class=\"sk-item\"><div class=\"sk-estimator sk-toggleable\"><input class=\"sk-toggleable__control sk-hidden--visually\" id=\"sk-estimator-id-1\" type=\"checkbox\" checked><label for=\"sk-estimator-id-1\" class=\"sk-toggleable__label sk-toggleable__label-arrow\">StandardScaler</label><div class=\"sk-toggleable__content\"><pre>StandardScaler()</pre></div></div></div></div></div>"
      ],
      "text/plain": [
       "StandardScaler()"
      ]
     },
     "execution_count": 6,
     "metadata": {},
     "output_type": "execute_result"
    }
   ],
   "source": [
    "#Scale data, otherwise model will fail.\n",
    "#Standardize features by removing the mean and scaling to unit variance\n",
    "from sklearn.preprocessing import StandardScaler\n",
    "scaler=StandardScaler()\n",
    "scaler.fit(X_train)"
   ]
  },
  {
   "cell_type": "code",
   "execution_count": 7,
   "metadata": {},
   "outputs": [],
   "source": [
    "X_train_scaled = scaler.transform(X_train)\n",
    "X_test_scaled = scaler.transform(X_test)"
   ]
  },
  {
   "cell_type": "code",
   "execution_count": 8,
   "metadata": {},
   "outputs": [
    {
     "name": "stdout",
     "output_type": "stream",
     "text": [
      "Model: \"sequential\"\n",
      "_________________________________________________________________\n",
      " Layer (type)                Output Shape              Param #   \n",
      "=================================================================\n",
      " dense (Dense)               (None, 128)               1792      \n",
      "                                                                 \n",
      " dense_1 (Dense)             (None, 64)                8256      \n",
      "                                                                 \n",
      " dense_2 (Dense)             (None, 1)                 65        \n",
      "                                                                 \n",
      "=================================================================\n",
      "Total params: 10,113\n",
      "Trainable params: 10,113\n",
      "Non-trainable params: 0\n",
      "_________________________________________________________________\n"
     ]
    }
   ],
   "source": [
    "# define the model\n",
    "#Experiment with deeper and wider networks\n",
    "model = Sequential()\n",
    "model.add(Dense(128, input_dim=13, activation='relu'))\n",
    "model.add(Dense(64, activation='relu'))\n",
    "#Output layer\n",
    "model.add(Dense(1, activation='linear'))\n",
    "\n",
    "model.compile(loss='mean_squared_error', optimizer='adam', metrics=['mae'])\n",
    "model.summary()"
   ]
  },
  {
   "cell_type": "code",
   "execution_count": 9,
   "metadata": {},
   "outputs": [
    {
     "name": "stdout",
     "output_type": "stream",
     "text": [
      "Epoch 1/100\n",
      "11/11 [==============================] - 1s 17ms/step - loss: 547.5498 - mae: 21.5081 - val_loss: 556.6695 - val_mae: 21.5775\n",
      "Epoch 2/100\n",
      "11/11 [==============================] - 0s 5ms/step - loss: 472.1275 - mae: 19.7385 - val_loss: 458.7081 - val_mae: 19.3264\n",
      "Epoch 3/100\n",
      "11/11 [==============================] - 0s 4ms/step - loss: 373.3336 - mae: 17.1332 - val_loss: 328.0822 - val_mae: 15.9337\n",
      "Epoch 4/100\n",
      "11/11 [==============================] - 0s 4ms/step - loss: 250.2001 - mae: 13.5558 - val_loss: 184.2664 - val_mae: 11.5110\n",
      "Epoch 5/100\n",
      "11/11 [==============================] - 0s 4ms/step - loss: 133.7347 - mae: 9.2293 - val_loss: 76.5511 - val_mae: 7.1369\n",
      "Epoch 6/100\n",
      "11/11 [==============================] - 0s 4ms/step - loss: 70.6835 - mae: 6.1794 - val_loss: 39.3755 - val_mae: 5.0357\n",
      "Epoch 7/100\n",
      "11/11 [==============================] - 0s 4ms/step - loss: 50.9395 - mae: 5.2739 - val_loss: 28.7233 - val_mae: 4.3365\n",
      "Epoch 8/100\n",
      "11/11 [==============================] - 0s 4ms/step - loss: 37.5900 - mae: 4.4555 - val_loss: 23.1975 - val_mae: 3.9554\n",
      "Epoch 9/100\n",
      "11/11 [==============================] - 0s 4ms/step - loss: 31.1147 - mae: 3.9214 - val_loss: 21.3715 - val_mae: 3.7604\n",
      "Epoch 10/100\n",
      "11/11 [==============================] - 0s 4ms/step - loss: 27.5706 - mae: 3.6482 - val_loss: 19.3351 - val_mae: 3.5874\n",
      "Epoch 11/100\n",
      "11/11 [==============================] - 0s 5ms/step - loss: 25.3150 - mae: 3.4358 - val_loss: 17.9159 - val_mae: 3.4574\n",
      "Epoch 12/100\n",
      "11/11 [==============================] - 0s 4ms/step - loss: 23.6365 - mae: 3.3390 - val_loss: 16.7497 - val_mae: 3.3638\n",
      "Epoch 13/100\n",
      "11/11 [==============================] - 0s 5ms/step - loss: 22.1985 - mae: 3.2351 - val_loss: 15.8331 - val_mae: 3.2713\n",
      "Epoch 14/100\n",
      "11/11 [==============================] - 0s 4ms/step - loss: 20.9625 - mae: 3.1385 - val_loss: 14.8489 - val_mae: 3.1753\n",
      "Epoch 15/100\n",
      "11/11 [==============================] - 0s 4ms/step - loss: 20.1008 - mae: 3.1043 - val_loss: 14.3512 - val_mae: 3.0937\n",
      "Epoch 16/100\n",
      "11/11 [==============================] - 0s 5ms/step - loss: 18.9879 - mae: 3.0076 - val_loss: 14.2788 - val_mae: 3.0605\n",
      "Epoch 17/100\n",
      "11/11 [==============================] - 0s 4ms/step - loss: 18.2768 - mae: 2.9333 - val_loss: 13.9198 - val_mae: 3.0098\n",
      "Epoch 18/100\n",
      "11/11 [==============================] - 0s 4ms/step - loss: 17.6428 - mae: 2.8602 - val_loss: 13.8741 - val_mae: 2.9850\n",
      "Epoch 19/100\n",
      "11/11 [==============================] - 0s 4ms/step - loss: 17.0134 - mae: 2.8083 - val_loss: 13.0008 - val_mae: 2.8918\n",
      "Epoch 20/100\n",
      "11/11 [==============================] - 0s 4ms/step - loss: 16.4675 - mae: 2.8713 - val_loss: 14.1278 - val_mae: 2.9992\n",
      "Epoch 21/100\n",
      "11/11 [==============================] - 0s 3ms/step - loss: 16.0522 - mae: 2.8580 - val_loss: 13.1823 - val_mae: 2.8833\n",
      "Epoch 22/100\n",
      "11/11 [==============================] - 0s 5ms/step - loss: 15.3610 - mae: 2.7577 - val_loss: 13.1973 - val_mae: 2.8374\n",
      "Epoch 23/100\n",
      "11/11 [==============================] - 0s 5ms/step - loss: 14.9484 - mae: 2.6822 - val_loss: 12.6309 - val_mae: 2.7908\n",
      "Epoch 24/100\n",
      "11/11 [==============================] - 0s 4ms/step - loss: 14.6061 - mae: 2.6268 - val_loss: 11.8891 - val_mae: 2.7193\n",
      "Epoch 25/100\n",
      "11/11 [==============================] - 0s 4ms/step - loss: 14.1667 - mae: 2.6049 - val_loss: 11.6368 - val_mae: 2.6801\n",
      "Epoch 26/100\n",
      "11/11 [==============================] - 0s 5ms/step - loss: 13.8316 - mae: 2.6049 - val_loss: 11.9346 - val_mae: 2.7174\n",
      "Epoch 27/100\n",
      "11/11 [==============================] - 0s 4ms/step - loss: 13.5349 - mae: 2.5864 - val_loss: 11.5777 - val_mae: 2.6652\n",
      "Epoch 28/100\n",
      "11/11 [==============================] - 0s 5ms/step - loss: 13.2133 - mae: 2.5328 - val_loss: 11.4401 - val_mae: 2.6567\n",
      "Epoch 29/100\n",
      "11/11 [==============================] - 0s 4ms/step - loss: 12.9451 - mae: 2.5006 - val_loss: 11.5289 - val_mae: 2.6652\n",
      "Epoch 30/100\n",
      "11/11 [==============================] - 0s 4ms/step - loss: 12.6853 - mae: 2.5295 - val_loss: 11.7930 - val_mae: 2.7315\n",
      "Epoch 31/100\n",
      "11/11 [==============================] - 0s 4ms/step - loss: 12.7027 - mae: 2.5245 - val_loss: 11.6899 - val_mae: 2.6944\n",
      "Epoch 32/100\n",
      "11/11 [==============================] - 0s 5ms/step - loss: 12.3297 - mae: 2.4521 - val_loss: 11.4213 - val_mae: 2.6771\n",
      "Epoch 33/100\n",
      "11/11 [==============================] - 0s 3ms/step - loss: 12.2452 - mae: 2.4171 - val_loss: 11.8728 - val_mae: 2.7317\n",
      "Epoch 34/100\n",
      "11/11 [==============================] - 0s 5ms/step - loss: 11.8537 - mae: 2.4110 - val_loss: 11.7404 - val_mae: 2.7183\n",
      "Epoch 35/100\n",
      "11/11 [==============================] - 0s 4ms/step - loss: 14.1747 - mae: 2.7021 - val_loss: 13.9538 - val_mae: 2.9017\n",
      "Epoch 36/100\n",
      "11/11 [==============================] - 0s 4ms/step - loss: 12.4137 - mae: 2.4816 - val_loss: 11.5324 - val_mae: 2.6782\n",
      "Epoch 37/100\n",
      "11/11 [==============================] - 0s 4ms/step - loss: 11.6006 - mae: 2.3718 - val_loss: 11.7453 - val_mae: 2.7228\n",
      "Epoch 38/100\n",
      "11/11 [==============================] - 0s 4ms/step - loss: 11.2890 - mae: 2.3228 - val_loss: 11.5727 - val_mae: 2.6956\n",
      "Epoch 39/100\n",
      "11/11 [==============================] - 0s 5ms/step - loss: 11.0563 - mae: 2.3055 - val_loss: 11.7782 - val_mae: 2.7139\n",
      "Epoch 40/100\n",
      "11/11 [==============================] - 0s 4ms/step - loss: 11.2841 - mae: 2.3574 - val_loss: 11.6693 - val_mae: 2.7030\n",
      "Epoch 41/100\n",
      "11/11 [==============================] - 0s 4ms/step - loss: 10.7857 - mae: 2.2836 - val_loss: 11.4951 - val_mae: 2.7071\n",
      "Epoch 42/100\n",
      "11/11 [==============================] - 0s 4ms/step - loss: 10.6660 - mae: 2.2657 - val_loss: 11.4772 - val_mae: 2.7203\n",
      "Epoch 43/100\n",
      "11/11 [==============================] - 0s 4ms/step - loss: 10.6151 - mae: 2.2892 - val_loss: 11.2418 - val_mae: 2.7041\n",
      "Epoch 44/100\n",
      "11/11 [==============================] - 0s 5ms/step - loss: 10.5209 - mae: 2.2676 - val_loss: 11.4297 - val_mae: 2.7093\n",
      "Epoch 45/100\n",
      "11/11 [==============================] - 0s 5ms/step - loss: 10.3991 - mae: 2.2379 - val_loss: 11.7737 - val_mae: 2.7705\n",
      "Epoch 46/100\n",
      "11/11 [==============================] - 0s 3ms/step - loss: 10.2426 - mae: 2.2110 - val_loss: 11.3530 - val_mae: 2.7128\n",
      "Epoch 47/100\n",
      "11/11 [==============================] - 0s 4ms/step - loss: 10.0936 - mae: 2.2013 - val_loss: 11.2707 - val_mae: 2.6943\n",
      "Epoch 48/100\n",
      "11/11 [==============================] - 0s 5ms/step - loss: 9.9769 - mae: 2.1990 - val_loss: 11.2874 - val_mae: 2.7179\n",
      "Epoch 49/100\n",
      "11/11 [==============================] - 0s 5ms/step - loss: 10.0736 - mae: 2.2479 - val_loss: 11.1626 - val_mae: 2.7086\n",
      "Epoch 50/100\n",
      "11/11 [==============================] - 0s 4ms/step - loss: 10.0395 - mae: 2.2075 - val_loss: 11.5114 - val_mae: 2.7258\n",
      "Epoch 51/100\n",
      "11/11 [==============================] - 0s 4ms/step - loss: 9.8482 - mae: 2.1912 - val_loss: 11.0788 - val_mae: 2.6857\n",
      "Epoch 52/100\n",
      "11/11 [==============================] - 0s 4ms/step - loss: 9.6194 - mae: 2.1692 - val_loss: 10.9052 - val_mae: 2.6819\n",
      "Epoch 53/100\n",
      "11/11 [==============================] - 0s 4ms/step - loss: 9.6123 - mae: 2.1739 - val_loss: 11.0275 - val_mae: 2.6897\n",
      "Epoch 54/100\n",
      "11/11 [==============================] - 0s 4ms/step - loss: 9.3686 - mae: 2.1427 - val_loss: 11.0897 - val_mae: 2.6926\n",
      "Epoch 55/100\n",
      "11/11 [==============================] - 0s 5ms/step - loss: 9.2728 - mae: 2.1206 - val_loss: 10.9428 - val_mae: 2.6740\n",
      "Epoch 56/100\n",
      "11/11 [==============================] - 0s 4ms/step - loss: 9.4372 - mae: 2.1639 - val_loss: 11.5276 - val_mae: 2.7602\n",
      "Epoch 57/100\n",
      "11/11 [==============================] - 0s 4ms/step - loss: 9.2543 - mae: 2.1606 - val_loss: 11.2194 - val_mae: 2.7138\n",
      "Epoch 58/100\n",
      "11/11 [==============================] - 0s 4ms/step - loss: 9.0986 - mae: 2.1214 - val_loss: 11.2003 - val_mae: 2.6960\n",
      "Epoch 59/100\n",
      "11/11 [==============================] - 0s 4ms/step - loss: 9.0627 - mae: 2.0926 - val_loss: 11.2923 - val_mae: 2.7020\n",
      "Epoch 60/100\n",
      "11/11 [==============================] - 0s 4ms/step - loss: 8.8715 - mae: 2.0829 - val_loss: 11.0696 - val_mae: 2.7025\n",
      "Epoch 61/100\n",
      "11/11 [==============================] - 0s 5ms/step - loss: 8.7462 - mae: 2.0737 - val_loss: 10.9025 - val_mae: 2.6741\n",
      "Epoch 62/100\n",
      "11/11 [==============================] - 0s 4ms/step - loss: 8.7101 - mae: 2.0709 - val_loss: 11.2033 - val_mae: 2.7020\n",
      "Epoch 63/100\n",
      "11/11 [==============================] - 0s 5ms/step - loss: 8.6124 - mae: 2.0688 - val_loss: 11.0972 - val_mae: 2.7202\n",
      "Epoch 64/100\n",
      "11/11 [==============================] - 0s 4ms/step - loss: 8.5778 - mae: 2.0735 - val_loss: 11.2651 - val_mae: 2.7261\n",
      "Epoch 65/100\n",
      "11/11 [==============================] - 0s 4ms/step - loss: 8.5446 - mae: 2.0714 - val_loss: 10.8558 - val_mae: 2.6963\n",
      "Epoch 66/100\n",
      "11/11 [==============================] - 0s 4ms/step - loss: 8.3967 - mae: 2.0515 - val_loss: 10.9660 - val_mae: 2.6980\n",
      "Epoch 67/100\n",
      "11/11 [==============================] - 0s 4ms/step - loss: 8.3502 - mae: 2.0514 - val_loss: 10.7906 - val_mae: 2.6718\n",
      "Epoch 68/100\n",
      "11/11 [==============================] - 0s 4ms/step - loss: 8.4573 - mae: 2.0480 - val_loss: 10.8767 - val_mae: 2.6789\n",
      "Epoch 69/100\n",
      "11/11 [==============================] - 0s 4ms/step - loss: 8.2329 - mae: 2.0275 - val_loss: 10.9362 - val_mae: 2.6660\n",
      "Epoch 70/100\n",
      "11/11 [==============================] - 0s 5ms/step - loss: 8.1105 - mae: 2.0380 - val_loss: 10.6919 - val_mae: 2.6865\n",
      "Epoch 71/100\n",
      "11/11 [==============================] - 0s 4ms/step - loss: 8.0920 - mae: 2.0445 - val_loss: 10.9394 - val_mae: 2.6925\n",
      "Epoch 72/100\n",
      "11/11 [==============================] - 0s 4ms/step - loss: 7.9516 - mae: 2.0141 - val_loss: 10.7696 - val_mae: 2.6605\n",
      "Epoch 73/100\n",
      "11/11 [==============================] - 0s 4ms/step - loss: 8.2269 - mae: 2.0465 - val_loss: 10.8838 - val_mae: 2.6577\n",
      "Epoch 74/100\n",
      "11/11 [==============================] - 0s 4ms/step - loss: 7.9456 - mae: 2.0168 - val_loss: 10.4182 - val_mae: 2.6338\n",
      "Epoch 75/100\n",
      "11/11 [==============================] - 0s 5ms/step - loss: 7.8138 - mae: 1.9982 - val_loss: 11.0692 - val_mae: 2.6941\n",
      "Epoch 76/100\n",
      "11/11 [==============================] - 0s 5ms/step - loss: 7.8328 - mae: 2.0231 - val_loss: 11.2925 - val_mae: 2.7024\n",
      "Epoch 77/100\n",
      "11/11 [==============================] - 0s 4ms/step - loss: 7.7119 - mae: 1.9761 - val_loss: 10.4996 - val_mae: 2.6282\n",
      "Epoch 78/100\n",
      "11/11 [==============================] - 0s 4ms/step - loss: 7.8331 - mae: 2.0088 - val_loss: 11.1250 - val_mae: 2.6609\n",
      "Epoch 79/100\n",
      "11/11 [==============================] - 0s 4ms/step - loss: 7.6252 - mae: 1.9597 - val_loss: 10.7888 - val_mae: 2.6515\n",
      "Epoch 80/100\n",
      "11/11 [==============================] - 0s 4ms/step - loss: 7.9300 - mae: 2.0639 - val_loss: 11.4554 - val_mae: 2.7570\n",
      "Epoch 81/100\n",
      "11/11 [==============================] - 0s 5ms/step - loss: 7.4309 - mae: 1.9756 - val_loss: 10.9196 - val_mae: 2.7163\n",
      "Epoch 82/100\n",
      "11/11 [==============================] - 0s 4ms/step - loss: 7.4294 - mae: 1.9605 - val_loss: 10.6325 - val_mae: 2.6766\n",
      "Epoch 83/100\n",
      "11/11 [==============================] - 0s 4ms/step - loss: 7.3289 - mae: 1.9410 - val_loss: 10.4940 - val_mae: 2.6493\n",
      "Epoch 84/100\n",
      "11/11 [==============================] - 0s 4ms/step - loss: 7.2996 - mae: 1.9638 - val_loss: 10.2442 - val_mae: 2.5968\n",
      "Epoch 85/100\n",
      "11/11 [==============================] - 0s 4ms/step - loss: 7.2321 - mae: 1.9430 - val_loss: 10.4330 - val_mae: 2.6170\n",
      "Epoch 86/100\n",
      "11/11 [==============================] - 0s 5ms/step - loss: 7.1376 - mae: 1.9112 - val_loss: 10.1382 - val_mae: 2.5752\n",
      "Epoch 87/100\n",
      "11/11 [==============================] - 0s 4ms/step - loss: 7.1218 - mae: 1.9236 - val_loss: 10.1612 - val_mae: 2.5954\n",
      "Epoch 88/100\n",
      "11/11 [==============================] - 0s 4ms/step - loss: 6.9896 - mae: 1.9230 - val_loss: 10.2643 - val_mae: 2.6103\n",
      "Epoch 89/100\n",
      "11/11 [==============================] - 0s 4ms/step - loss: 6.9520 - mae: 1.9170 - val_loss: 10.4828 - val_mae: 2.5987\n",
      "Epoch 90/100\n",
      "11/11 [==============================] - 0s 4ms/step - loss: 6.8946 - mae: 1.9202 - val_loss: 10.1292 - val_mae: 2.5742\n",
      "Epoch 91/100\n",
      "11/11 [==============================] - 0s 4ms/step - loss: 6.9409 - mae: 1.9205 - val_loss: 10.2157 - val_mae: 2.5652\n",
      "Epoch 92/100\n",
      "11/11 [==============================] - 0s 4ms/step - loss: 7.1057 - mae: 1.9282 - val_loss: 9.7440 - val_mae: 2.5149\n",
      "Epoch 93/100\n",
      "11/11 [==============================] - 0s 4ms/step - loss: 6.7337 - mae: 1.9084 - val_loss: 11.1840 - val_mae: 2.6577\n",
      "Epoch 94/100\n",
      "11/11 [==============================] - 0s 4ms/step - loss: 6.8885 - mae: 1.9429 - val_loss: 10.0862 - val_mae: 2.5449\n",
      "Epoch 95/100\n",
      "11/11 [==============================] - 0s 5ms/step - loss: 6.4785 - mae: 1.8581 - val_loss: 9.9675 - val_mae: 2.5257\n",
      "Epoch 96/100\n",
      "11/11 [==============================] - 0s 3ms/step - loss: 6.4422 - mae: 1.8557 - val_loss: 10.0588 - val_mae: 2.5123\n",
      "Epoch 97/100\n",
      "11/11 [==============================] - 0s 4ms/step - loss: 6.3963 - mae: 1.8332 - val_loss: 10.0610 - val_mae: 2.5513\n",
      "Epoch 98/100\n",
      "11/11 [==============================] - 0s 4ms/step - loss: 6.4006 - mae: 1.8270 - val_loss: 10.0778 - val_mae: 2.5221\n",
      "Epoch 99/100\n",
      "11/11 [==============================] - 0s 5ms/step - loss: 6.5379 - mae: 1.8813 - val_loss: 10.1279 - val_mae: 2.5396\n",
      "Epoch 100/100\n",
      "11/11 [==============================] - 0s 4ms/step - loss: 6.3034 - mae: 1.8372 - val_loss: 10.3398 - val_mae: 2.5572\n"
     ]
    }
   ],
   "source": [
    "history = model.fit(X_train_scaled, y_train, validation_split=0.2, epochs =100)\n"
   ]
  },
  {
   "cell_type": "code",
   "execution_count": 10,
   "metadata": {},
   "outputs": [
    {
     "data": {
      "image/png": "[encoded data removed]",
      "text/plain": [
       "<Figure size 432x288 with 1 Axes>"
      ]
     },
     "metadata": {
      "needs_background": "light"
     },
     "output_type": "display_data"
    }
   ],
   "source": [
    "from matplotlib import pyplot as plt\n",
    "#plot the training and validation accuracy and loss at each epoch\n",
    "loss = history.history['loss']\n",
    "val_loss = history.history['val_loss']\n",
    "epochs = range(1, len(loss) + 1)\n",
    "plt.plot(epochs, loss, 'y', label='Training loss')\n",
    "plt.plot(epochs, val_loss, 'r', label='Validation loss')\n",
    "plt.title('Training and validation loss')\n",
    "plt.xlabel('Epochs')\n",
    "plt.ylabel('Loss')\n",
    "plt.legend()\n",
    "plt.show()"
   ]
  },
  {
   "cell_type": "code",
   "execution_count": 12,
   "metadata": {},
   "outputs": [
    {
     "name": "stdout",
     "output_type": "stream",
     "text": [
      "1/1 [==============================] - 0s 68ms/step\n",
      "Predicted values are:  [[18.51675 ]\n",
      " [20.575607]\n",
      " [21.435455]\n",
      " [20.61901 ]\n",
      " [12.646675]]\n",
      "Real values are:  498    21.2\n",
      "94     20.6\n",
      "150    21.5\n",
      "221    21.7\n",
      "423    13.4\n",
      "Name: PRICE, dtype: float64\n"
     ]
    }
   ],
   "source": [
    "#Predict on test data\n",
    "predictions = model.predict(X_test_scaled[:5])\n",
    "print(\"Predicted values are: \", predictions)\n",
    "print(\"Real values are: \", y_test[:5])"
   ]
  },
  {
   "cell_type": "code",
   "execution_count": null,
   "metadata": {},
   "outputs": [],
   "source": []
  },
  {
   "cell_type": "code",
   "execution_count": null,
   "metadata": {},
   "outputs": [],
   "source": []
  },
  {
   "cell_type": "code",
   "execution_count": null,
   "metadata": {},
   "outputs": [],
   "source": []
  }
 ],
 "metadata": {
  "kernelspec": {
   "display_name": "Python 3",
   "language": "python",
   "name": "python3"
  },
  "language_info": {
   "codemirror_mode": {
    "name": "ipython",
    "version": 3
   },
   "file_extension": ".py",
   "mimetype": "text/x-python",
   "name": "python",
   "nbconvert_exporter": "python",
   "pygments_lexer": "ipython3",
   "version": "3.10.4"
  }
 },
 "nbformat": 4,
 "nbformat_minor": 2
}
